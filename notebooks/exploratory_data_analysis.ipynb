{
 "cells": [
  {
   "cell_type": "code",
   "execution_count": 45,
   "id": "initial_id",
   "metadata": {
    "collapsed": true,
    "ExecuteTime": {
     "end_time": "2024-03-08T00:30:41.395116Z",
     "start_time": "2024-03-08T00:30:41.384944900Z"
    }
   },
   "outputs": [],
   "source": [
    "import pandas as pd\n",
    "import numpy as np\n",
    "import matplotlib.pyplot as plt\n",
    "import seaborn as sns\n"
   ]
  },
  {
   "cell_type": "code",
   "execution_count": 46,
   "outputs": [
    {
     "name": "stdout",
     "output_type": "stream",
     "text": [
      "<class 'pandas.core.frame.DataFrame'>\n",
      "RangeIndex: 375 entries, 0 to 374\n",
      "Data columns (total 6 columns):\n",
      " #   Column               Non-Null Count  Dtype  \n",
      "---  ------               --------------  -----  \n",
      " 0   Age                  373 non-null    float64\n",
      " 1   Gender               373 non-null    object \n",
      " 2   Education Level      373 non-null    object \n",
      " 3   Job Title            373 non-null    object \n",
      " 4   Years of Experience  373 non-null    float64\n",
      " 5   Salary               373 non-null    float64\n",
      "dtypes: float64(3), object(3)\n",
      "memory usage: 17.7+ KB\n"
     ]
    }
   ],
   "source": [
    "salary = pd.read_csv(r\"Q:\\Users\\adria\\PycharmProjects\\Salary-Projection-Model\\data\\Salary Data.csv\")\n",
    "salary.info()"
   ],
   "metadata": {
    "collapsed": false,
    "ExecuteTime": {
     "end_time": "2024-03-08T00:30:41.444126800Z",
     "start_time": "2024-03-08T00:30:41.399118900Z"
    }
   },
   "id": "b72327c19d1f7ae3"
  },
  {
   "cell_type": "code",
   "execution_count": 47,
   "outputs": [
    {
     "data": {
      "text/plain": "    Age  Gender Education Level          Job Title  Years of Experience  \\\n0  32.0    Male      Bachelor's  Software Engineer                  5.0   \n1  28.0  Female        Master's       Data Analyst                  3.0   \n2  45.0    Male             PhD     Senior Manager                 15.0   \n3  36.0  Female      Bachelor's    Sales Associate                  7.0   \n4  52.0    Male        Master's           Director                 20.0   \n\n     Salary  \n0   90000.0  \n1   65000.0  \n2  150000.0  \n3   60000.0  \n4  200000.0  ",
      "text/html": "<div>\n<style scoped>\n    .dataframe tbody tr th:only-of-type {\n        vertical-align: middle;\n    }\n\n    .dataframe tbody tr th {\n        vertical-align: top;\n    }\n\n    .dataframe thead th {\n        text-align: right;\n    }\n</style>\n<table border=\"1\" class=\"dataframe\">\n  <thead>\n    <tr style=\"text-align: right;\">\n      <th></th>\n      <th>Age</th>\n      <th>Gender</th>\n      <th>Education Level</th>\n      <th>Job Title</th>\n      <th>Years of Experience</th>\n      <th>Salary</th>\n    </tr>\n  </thead>\n  <tbody>\n    <tr>\n      <th>0</th>\n      <td>32.0</td>\n      <td>Male</td>\n      <td>Bachelor's</td>\n      <td>Software Engineer</td>\n      <td>5.0</td>\n      <td>90000.0</td>\n    </tr>\n    <tr>\n      <th>1</th>\n      <td>28.0</td>\n      <td>Female</td>\n      <td>Master's</td>\n      <td>Data Analyst</td>\n      <td>3.0</td>\n      <td>65000.0</td>\n    </tr>\n    <tr>\n      <th>2</th>\n      <td>45.0</td>\n      <td>Male</td>\n      <td>PhD</td>\n      <td>Senior Manager</td>\n      <td>15.0</td>\n      <td>150000.0</td>\n    </tr>\n    <tr>\n      <th>3</th>\n      <td>36.0</td>\n      <td>Female</td>\n      <td>Bachelor's</td>\n      <td>Sales Associate</td>\n      <td>7.0</td>\n      <td>60000.0</td>\n    </tr>\n    <tr>\n      <th>4</th>\n      <td>52.0</td>\n      <td>Male</td>\n      <td>Master's</td>\n      <td>Director</td>\n      <td>20.0</td>\n      <td>200000.0</td>\n    </tr>\n  </tbody>\n</table>\n</div>"
     },
     "execution_count": 47,
     "metadata": {},
     "output_type": "execute_result"
    }
   ],
   "source": [
    "salary.head()"
   ],
   "metadata": {
    "collapsed": false,
    "ExecuteTime": {
     "end_time": "2024-03-08T00:30:41.445127100Z",
     "start_time": "2024-03-08T00:30:41.412046100Z"
    }
   },
   "id": "ef62ce8ed868ac30"
  },
  {
   "cell_type": "code",
   "execution_count": 48,
   "outputs": [
    {
     "data": {
      "text/plain": "              Age  Years of Experience         Salary\ncount  373.000000           373.000000     373.000000\nmean    37.431635            10.030831  100577.345845\nstd      7.069073             6.557007   48240.013482\nmin     23.000000             0.000000     350.000000\n25%     31.000000             4.000000   55000.000000\n50%     36.000000             9.000000   95000.000000\n75%     44.000000            15.000000  140000.000000\nmax     53.000000            25.000000  250000.000000",
      "text/html": "<div>\n<style scoped>\n    .dataframe tbody tr th:only-of-type {\n        vertical-align: middle;\n    }\n\n    .dataframe tbody tr th {\n        vertical-align: top;\n    }\n\n    .dataframe thead th {\n        text-align: right;\n    }\n</style>\n<table border=\"1\" class=\"dataframe\">\n  <thead>\n    <tr style=\"text-align: right;\">\n      <th></th>\n      <th>Age</th>\n      <th>Years of Experience</th>\n      <th>Salary</th>\n    </tr>\n  </thead>\n  <tbody>\n    <tr>\n      <th>count</th>\n      <td>373.000000</td>\n      <td>373.000000</td>\n      <td>373.000000</td>\n    </tr>\n    <tr>\n      <th>mean</th>\n      <td>37.431635</td>\n      <td>10.030831</td>\n      <td>100577.345845</td>\n    </tr>\n    <tr>\n      <th>std</th>\n      <td>7.069073</td>\n      <td>6.557007</td>\n      <td>48240.013482</td>\n    </tr>\n    <tr>\n      <th>min</th>\n      <td>23.000000</td>\n      <td>0.000000</td>\n      <td>350.000000</td>\n    </tr>\n    <tr>\n      <th>25%</th>\n      <td>31.000000</td>\n      <td>4.000000</td>\n      <td>55000.000000</td>\n    </tr>\n    <tr>\n      <th>50%</th>\n      <td>36.000000</td>\n      <td>9.000000</td>\n      <td>95000.000000</td>\n    </tr>\n    <tr>\n      <th>75%</th>\n      <td>44.000000</td>\n      <td>15.000000</td>\n      <td>140000.000000</td>\n    </tr>\n    <tr>\n      <th>max</th>\n      <td>53.000000</td>\n      <td>25.000000</td>\n      <td>250000.000000</td>\n    </tr>\n  </tbody>\n</table>\n</div>"
     },
     "execution_count": 48,
     "metadata": {},
     "output_type": "execute_result"
    }
   ],
   "source": [
    "salary.describe()"
   ],
   "metadata": {
    "collapsed": false,
    "ExecuteTime": {
     "end_time": "2024-03-08T00:30:41.446128300Z",
     "start_time": "2024-03-08T00:30:41.422826600Z"
    }
   },
   "id": "317650ffc6d75d28"
  },
  {
   "cell_type": "code",
   "execution_count": 49,
   "outputs": [
    {
     "data": {
      "text/plain": "<seaborn.axisgrid.FacetGrid at 0x1d21ef0f3e0>"
     },
     "execution_count": 49,
     "metadata": {},
     "output_type": "execute_result"
    },
    {
     "data": {
      "text/plain": "<Figure size 500x500 with 1 Axes>",
      "image/png": "[encoded data removed]"
     },
     "metadata": {},
     "output_type": "display_data"
    }
   ],
   "source": [
    "sns.displot(salary['Salary'])"
   ],
   "metadata": {
    "collapsed": false,
    "ExecuteTime": {
     "end_time": "2024-03-08T00:30:41.865190900Z",
     "start_time": "2024-03-08T00:30:41.447127300Z"
    }
   },
   "id": "2aa8644328fcc435"
  },
  {
   "cell_type": "code",
   "execution_count": 50,
   "outputs": [],
   "source": [
    "salary.dropna(inplace=True)\n",
    "salary.drop_duplicates(inplace=True)"
   ],
   "metadata": {
    "collapsed": false,
    "ExecuteTime": {
     "end_time": "2024-03-08T00:30:41.876740Z",
     "start_time": "2024-03-08T00:30:41.846719500Z"
    }
   },
   "id": "f4c49c91f6b76d7a"
  },
  {
   "cell_type": "code",
   "execution_count": 51,
   "outputs": [],
   "source": [
    "#Preparing independent variable x by assigning the 'Salary' Column as the dependent variable y\n",
    "x = salary.drop(['Salary'], axis=1)\n",
    "y = salary['Salary']"
   ],
   "metadata": {
    "collapsed": false,
    "ExecuteTime": {
     "end_time": "2024-03-08T00:30:41.878030300Z",
     "start_time": "2024-03-08T00:30:41.855118Z"
    }
   },
   "id": "7abe87c91dbfe6ae"
  },
  {
   "cell_type": "code",
   "execution_count": 52,
   "outputs": [],
   "source": [
    "#Convert categorical variables to numeric after using one-hot-encoding\n",
    "x = pd.get_dummies(x, columns = ['Gender', 'Education Level', 'Job Title'])"
   ],
   "metadata": {
    "collapsed": false,
    "ExecuteTime": {
     "end_time": "2024-03-08T00:30:41.968764800Z",
     "start_time": "2024-03-08T00:30:41.863191400Z"
    }
   },
   "id": "690dfafab4f1f14c"
  },
  {
   "cell_type": "code",
   "execution_count": 53,
   "outputs": [],
   "source": [
    "# Divides dataset into training and testing sets, with 80% of data used for training , and 20% for testing performance\n",
    "from sklearn.model_selection import train_test_split\n",
    "x_train, x_test, y_train, y_test = train_test_split(x, y,test_size=0.2, random_state=101)"
   ],
   "metadata": {
    "collapsed": false,
    "ExecuteTime": {
     "end_time": "2024-03-08T00:30:41.969765Z",
     "start_time": "2024-03-08T00:30:41.878030300Z"
    }
   },
   "id": "d42031b0f644b439"
  },
  {
   "cell_type": "code",
   "execution_count": 54,
   "outputs": [],
   "source": [
    "from sklearn.linear_model import LinearRegression\n",
    "LR = LinearRegression()"
   ],
   "metadata": {
    "collapsed": false,
    "ExecuteTime": {
     "end_time": "2024-03-08T00:30:41.969765Z",
     "start_time": "2024-03-08T00:30:41.887129900Z"
    }
   },
   "id": "d05c4320992e8f02"
  },
  {
   "cell_type": "code",
   "execution_count": 55,
   "outputs": [],
   "source": [
    "LR.fit(x_train, y_train)\n",
    "y_pred = LR.predict(x_test)"
   ],
   "metadata": {
    "collapsed": false,
    "ExecuteTime": {
     "end_time": "2024-03-08T00:30:41.988808500Z",
     "start_time": "2024-03-08T00:30:41.890130700Z"
    }
   },
   "id": "4457e3870d1099d1"
  },
  {
   "cell_type": "code",
   "execution_count": 56,
   "outputs": [
    {
     "name": "stdout",
     "output_type": "stream",
     "text": [
      "['Age', 'Years of Experience', 'Gender_Female', 'Gender_Male', \"Education Level_Bachelor's\", \"Education Level_Master's\", 'Education Level_PhD', 'Job Title_Account Manager', 'Job Title_Accountant', 'Job Title_Administrative Assistant', 'Job Title_Business Analyst', 'Job Title_Business Development Manager', 'Job Title_Business Intelligence Analyst', 'Job Title_CEO', 'Job Title_Chief Data Officer', 'Job Title_Chief Technology Officer', 'Job Title_Content Marketing Manager', 'Job Title_Copywriter', 'Job Title_Creative Director', 'Job Title_Customer Service Manager', 'Job Title_Customer Service Rep', 'Job Title_Customer Service Representative', 'Job Title_Customer Success Manager', 'Job Title_Customer Success Rep', 'Job Title_Data Analyst', 'Job Title_Data Entry Clerk', 'Job Title_Data Scientist', 'Job Title_Digital Content Producer', 'Job Title_Digital Marketing Manager', 'Job Title_Director', 'Job Title_Director of Business Development', 'Job Title_Director of Engineering', 'Job Title_Director of Finance', 'Job Title_Director of HR', 'Job Title_Director of Human Capital', 'Job Title_Director of Human Resources', 'Job Title_Director of Marketing', 'Job Title_Director of Operations', 'Job Title_Director of Product Management', 'Job Title_Director of Sales', 'Job Title_Director of Sales and Marketing', 'Job Title_Event Coordinator', 'Job Title_Financial Advisor', 'Job Title_Financial Analyst', 'Job Title_Financial Manager', 'Job Title_Graphic Designer', 'Job Title_HR Generalist', 'Job Title_HR Manager', 'Job Title_Help Desk Analyst', 'Job Title_Human Resources Director', 'Job Title_IT Manager', 'Job Title_IT Support', 'Job Title_IT Support Specialist', 'Job Title_Junior Account Manager', 'Job Title_Junior Accountant', 'Job Title_Junior Advertising Coordinator', 'Job Title_Junior Business Analyst', 'Job Title_Junior Business Development Associate', 'Job Title_Junior Business Operations Analyst', 'Job Title_Junior Copywriter', 'Job Title_Junior Customer Support Specialist', 'Job Title_Junior Data Analyst', 'Job Title_Junior Data Scientist', 'Job Title_Junior Designer', 'Job Title_Junior Developer', 'Job Title_Junior Financial Advisor', 'Job Title_Junior Financial Analyst', 'Job Title_Junior HR Coordinator', 'Job Title_Junior HR Generalist', 'Job Title_Junior Marketing Analyst', 'Job Title_Junior Marketing Coordinator', 'Job Title_Junior Marketing Manager', 'Job Title_Junior Marketing Specialist', 'Job Title_Junior Operations Analyst', 'Job Title_Junior Operations Coordinator', 'Job Title_Junior Operations Manager', 'Job Title_Junior Product Manager', 'Job Title_Junior Project Manager', 'Job Title_Junior Recruiter', 'Job Title_Junior Research Scientist', 'Job Title_Junior Sales Representative', 'Job Title_Junior Social Media Manager', 'Job Title_Junior Social Media Specialist', 'Job Title_Junior Software Developer', 'Job Title_Junior Software Engineer', 'Job Title_Junior UX Designer', 'Job Title_Junior Web Designer', 'Job Title_Junior Web Developer', 'Job Title_Marketing Analyst', 'Job Title_Marketing Coordinator', 'Job Title_Marketing Manager', 'Job Title_Marketing Specialist', 'Job Title_Network Engineer', 'Job Title_Office Manager', 'Job Title_Operations Analyst', 'Job Title_Operations Director', 'Job Title_Operations Manager', 'Job Title_Principal Engineer', 'Job Title_Principal Scientist', 'Job Title_Product Designer', 'Job Title_Product Manager', 'Job Title_Product Marketing Manager', 'Job Title_Project Engineer', 'Job Title_Project Manager', 'Job Title_Public Relations Manager', 'Job Title_Recruiter', 'Job Title_Research Director', 'Job Title_Research Scientist', 'Job Title_Sales Associate', 'Job Title_Sales Director', 'Job Title_Sales Executive', 'Job Title_Sales Manager', 'Job Title_Sales Operations Manager', 'Job Title_Sales Representative', 'Job Title_Senior Account Executive', 'Job Title_Senior Account Manager', 'Job Title_Senior Accountant', 'Job Title_Senior Business Analyst', 'Job Title_Senior Business Development Manager', 'Job Title_Senior Consultant', 'Job Title_Senior Data Analyst', 'Job Title_Senior Data Engineer', 'Job Title_Senior Data Scientist', 'Job Title_Senior Engineer', 'Job Title_Senior Financial Advisor', 'Job Title_Senior Financial Analyst', 'Job Title_Senior Financial Manager', 'Job Title_Senior Graphic Designer', 'Job Title_Senior HR Generalist', 'Job Title_Senior HR Manager', 'Job Title_Senior HR Specialist', 'Job Title_Senior Human Resources Coordinator', 'Job Title_Senior Human Resources Manager', 'Job Title_Senior Human Resources Specialist', 'Job Title_Senior IT Consultant', 'Job Title_Senior IT Project Manager', 'Job Title_Senior IT Support Specialist', 'Job Title_Senior Manager', 'Job Title_Senior Marketing Analyst', 'Job Title_Senior Marketing Coordinator', 'Job Title_Senior Marketing Director', 'Job Title_Senior Marketing Manager', 'Job Title_Senior Marketing Specialist', 'Job Title_Senior Operations Analyst', 'Job Title_Senior Operations Coordinator', 'Job Title_Senior Operations Manager', 'Job Title_Senior Product Designer', 'Job Title_Senior Product Development Manager', 'Job Title_Senior Product Manager', 'Job Title_Senior Product Marketing Manager', 'Job Title_Senior Project Coordinator', 'Job Title_Senior Project Manager', 'Job Title_Senior Quality Assurance Analyst', 'Job Title_Senior Research Scientist', 'Job Title_Senior Researcher', 'Job Title_Senior Sales Manager', 'Job Title_Senior Sales Representative', 'Job Title_Senior Scientist', 'Job Title_Senior Software Architect', 'Job Title_Senior Software Developer', 'Job Title_Senior Software Engineer', 'Job Title_Senior Training Specialist', 'Job Title_Senior UX Designer', 'Job Title_Social Media Manager', 'Job Title_Social Media Specialist', 'Job Title_Software Developer', 'Job Title_Software Engineer', 'Job Title_Software Manager', 'Job Title_Software Project Manager', 'Job Title_Strategy Consultant', 'Job Title_Supply Chain Analyst', 'Job Title_Supply Chain Manager', 'Job Title_Technical Recruiter', 'Job Title_Technical Support Specialist', 'Job Title_Technical Writer', 'Job Title_Training Specialist', 'Job Title_UX Designer', 'Job Title_UX Researcher', 'Job Title_VP of Finance', 'Job Title_VP of Operations', 'Job Title_Web Developer']\n"
     ]
    }
   ],
   "source": [
    "trained_feature_names = x_train.columns.tolist()\n",
    "print(trained_feature_names)"
   ],
   "metadata": {
    "collapsed": false,
    "ExecuteTime": {
     "end_time": "2024-03-08T00:30:41.988808500Z",
     "start_time": "2024-03-08T00:30:41.941089300Z"
    }
   },
   "id": "f9dc758fe238889e"
  },
  {
   "cell_type": "code",
   "execution_count": 57,
   "outputs": [],
   "source": [
    "input_age = float(input(\"Enter your age: \"))\n",
    "input_gender = input(\"Enter your Gender: \")\n",
    "input_education_level = input(\"Enter your Education: \")\n",
    "input_job_title = input(\"Enter your Job Title: \")\n",
    "input_years_of_experience = float(input(\"Enter your Experience Level in years: \"))"
   ],
   "metadata": {
    "collapsed": false,
    "ExecuteTime": {
     "end_time": "2024-03-08T00:30:59.876147500Z",
     "start_time": "2024-03-08T00:30:41.948718500Z"
    }
   },
   "id": "ab5b6629f2e8db56"
  },
  {
   "cell_type": "code",
   "execution_count": 58,
   "outputs": [
    {
     "name": "stdout",
     "output_type": "stream",
     "text": [
      "The estimated annual salary based on the provided information is: $75,290.00\n"
     ]
    }
   ],
   "source": [
    "# Ensure input_data has all columns with 0 values except for those being set\n",
    "input_data = pd.DataFrame(columns=trained_feature_names)\n",
    "for column in input_data.columns:\n",
    "    input_data.at[0, column] = 0\n",
    "\n",
    "# Set input values\n",
    "input_data['Age'] = input_age\n",
    "input_data['Years of Experience'] = input_years_of_experience\n",
    "input_data[f'Gender_{input_gender}'] = 1\n",
    "input_data[f\"Education Level_{input_education_level}\"] = 1\n",
    "input_data[f'Job Title_{input_job_title}'] = 1\n",
    "\n",
    "# Predict the salary\n",
    "predicted_salary = LR.predict(input_data)[0]\n",
    "print(f\"The estimated annual salary based on the provided information is: ${predicted_salary:,.2f}\")\n"
   ],
   "metadata": {
    "collapsed": false,
    "ExecuteTime": {
     "end_time": "2024-03-08T00:30:59.892318100Z",
     "start_time": "2024-03-08T00:30:59.869425Z"
    }
   },
   "id": "feaf493acbb8c1b4"
  }
 ],
 "metadata": {
  "kernelspec": {
   "display_name": "Python 3",
   "language": "python",
   "name": "python3"
  },
  "language_info": {
   "codemirror_mode": {
    "name": "ipython",
    "version": 2
   },
   "file_extension": ".py",
   "mimetype": "text/x-python",
   "name": "python",
   "nbconvert_exporter": "python",
   "pygments_lexer": "ipython2",
   "version": "2.7.6"
  }
 },
 "nbformat": 4,
 "nbformat_minor": 5
}
